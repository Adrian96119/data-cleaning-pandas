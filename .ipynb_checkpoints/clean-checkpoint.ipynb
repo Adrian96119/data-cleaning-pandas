{
 "cells": [
  {
   "cell_type": "markdown",
   "metadata": {},
   "source": [
    "## MINIPROYECTO PANDAS"
   ]
  },
  {
   "cell_type": "code",
   "execution_count": 1,
   "metadata": {},
   "outputs": [],
   "source": [
    "import numpy as np\n",
    "import pandas as pd\n",
    "import matplotlib.pyplot as plt\n",
    "\n",
    "import seaborn as sns\n",
    "%matplotlib inline"
   ]
  },
  {
   "cell_type": "code",
   "execution_count": 2,
   "metadata": {},
   "outputs": [],
   "source": [
    "df = pd.read_csv(\"attacks.csv\",encoding = \"ISO-8859-1\")  #abro el domumento con la codificacion adecuada."
   ]
  },
  {
   "cell_type": "code",
   "execution_count": 3,
   "metadata": {},
   "outputs": [
    {
     "name": "stdout",
     "output_type": "stream",
     "text": [
      "<class 'pandas.core.frame.DataFrame'>\n",
      "RangeIndex: 25723 entries, 0 to 25722\n",
      "Data columns (total 24 columns):\n",
      " #   Column                  Non-Null Count  Dtype  \n",
      "---  ------                  --------------  -----  \n",
      " 0   Case Number             8702 non-null   object \n",
      " 1   Date                    6302 non-null   object \n",
      " 2   Year                    6300 non-null   float64\n",
      " 3   Type                    6298 non-null   object \n",
      " 4   Country                 6252 non-null   object \n",
      " 5   Area                    5847 non-null   object \n",
      " 6   Location                5762 non-null   object \n",
      " 7   Activity                5758 non-null   object \n",
      " 8   Name                    6092 non-null   object \n",
      " 9   Sex                     5737 non-null   object \n",
      " 10  Age                     3471 non-null   object \n",
      " 11  Injury                  6274 non-null   object \n",
      " 12  Fatal (Y/N)             5763 non-null   object \n",
      " 13  Time                    2948 non-null   object \n",
      " 14  Species                 3464 non-null   object \n",
      " 15  Investigator or Source  6285 non-null   object \n",
      " 16  pdf                     6302 non-null   object \n",
      " 17  href formula            6301 non-null   object \n",
      " 18  href                    6302 non-null   object \n",
      " 19  Case Number.1           6302 non-null   object \n",
      " 20  Case Number.2           6302 non-null   object \n",
      " 21  original order          6309 non-null   float64\n",
      " 22  Unnamed: 22             1 non-null      object \n",
      " 23  Unnamed: 23             2 non-null      object \n",
      "dtypes: float64(2), object(22)\n",
      "memory usage: 4.7+ MB\n"
     ]
    }
   ],
   "source": [
    "#lO PRIMERO QUE VOY A HACER ES QUEDARME CON LAS COLUMNAS QUE CREO QUE VOY A NECESITAR\n",
    "#PARA REDUCIR MI DATAFRAME LO MÁXIMO POSIBLE.\n",
    "#PARA ELLO, DEBO COMPROBAR LAS COLUMNAS DE MI DATAFRAME\n",
    "df.info()\n",
    "\n",
    "\n"
   ]
  },
  {
   "cell_type": "code",
   "execution_count": 4,
   "metadata": {},
   "outputs": [
    {
     "data": {
      "text/html": [
       "<div>\n",
       "<style scoped>\n",
       "    .dataframe tbody tr th:only-of-type {\n",
       "        vertical-align: middle;\n",
       "    }\n",
       "\n",
       "    .dataframe tbody tr th {\n",
       "        vertical-align: top;\n",
       "    }\n",
       "\n",
       "    .dataframe thead th {\n",
       "        text-align: right;\n",
       "    }\n",
       "</style>\n",
       "<table border=\"1\" class=\"dataframe\">\n",
       "  <thead>\n",
       "    <tr style=\"text-align: right;\">\n",
       "      <th></th>\n",
       "      <th>Case Number</th>\n",
       "      <th>Date</th>\n",
       "      <th>Year</th>\n",
       "      <th>Country</th>\n",
       "      <th>Area</th>\n",
       "      <th>Activity</th>\n",
       "      <th>Sex</th>\n",
       "      <th>Age</th>\n",
       "      <th>Injury</th>\n",
       "      <th>Fatal (Y/N)</th>\n",
       "      <th>Species</th>\n",
       "    </tr>\n",
       "  </thead>\n",
       "  <tbody>\n",
       "    <tr>\n",
       "      <th>0</th>\n",
       "      <td>2018.06.25</td>\n",
       "      <td>25-Jun-2018</td>\n",
       "      <td>2018.0</td>\n",
       "      <td>USA</td>\n",
       "      <td>California</td>\n",
       "      <td>Paddling</td>\n",
       "      <td>F</td>\n",
       "      <td>57</td>\n",
       "      <td>No injury to occupant, outrigger canoe and pad...</td>\n",
       "      <td>N</td>\n",
       "      <td>White shark</td>\n",
       "    </tr>\n",
       "    <tr>\n",
       "      <th>1</th>\n",
       "      <td>2018.06.18</td>\n",
       "      <td>18-Jun-2018</td>\n",
       "      <td>2018.0</td>\n",
       "      <td>USA</td>\n",
       "      <td>Georgia</td>\n",
       "      <td>Standing</td>\n",
       "      <td>F</td>\n",
       "      <td>11</td>\n",
       "      <td>Minor injury to left thigh</td>\n",
       "      <td>N</td>\n",
       "      <td>NaN</td>\n",
       "    </tr>\n",
       "    <tr>\n",
       "      <th>2</th>\n",
       "      <td>2018.06.09</td>\n",
       "      <td>09-Jun-2018</td>\n",
       "      <td>2018.0</td>\n",
       "      <td>USA</td>\n",
       "      <td>Hawaii</td>\n",
       "      <td>Surfing</td>\n",
       "      <td>M</td>\n",
       "      <td>48</td>\n",
       "      <td>Injury to left lower leg from surfboard skeg</td>\n",
       "      <td>N</td>\n",
       "      <td>NaN</td>\n",
       "    </tr>\n",
       "    <tr>\n",
       "      <th>3</th>\n",
       "      <td>2018.06.08</td>\n",
       "      <td>08-Jun-2018</td>\n",
       "      <td>2018.0</td>\n",
       "      <td>AUSTRALIA</td>\n",
       "      <td>New South Wales</td>\n",
       "      <td>Surfing</td>\n",
       "      <td>M</td>\n",
       "      <td>NaN</td>\n",
       "      <td>Minor injury to lower leg</td>\n",
       "      <td>N</td>\n",
       "      <td>2 m shark</td>\n",
       "    </tr>\n",
       "    <tr>\n",
       "      <th>4</th>\n",
       "      <td>2018.06.04</td>\n",
       "      <td>04-Jun-2018</td>\n",
       "      <td>2018.0</td>\n",
       "      <td>MEXICO</td>\n",
       "      <td>Colima</td>\n",
       "      <td>Free diving</td>\n",
       "      <td>M</td>\n",
       "      <td>NaN</td>\n",
       "      <td>Lacerations to leg &amp; hand shark PROVOKED INCIDENT</td>\n",
       "      <td>N</td>\n",
       "      <td>Tiger shark, 3m</td>\n",
       "    </tr>\n",
       "    <tr>\n",
       "      <th>...</th>\n",
       "      <td>...</td>\n",
       "      <td>...</td>\n",
       "      <td>...</td>\n",
       "      <td>...</td>\n",
       "      <td>...</td>\n",
       "      <td>...</td>\n",
       "      <td>...</td>\n",
       "      <td>...</td>\n",
       "      <td>...</td>\n",
       "      <td>...</td>\n",
       "      <td>...</td>\n",
       "    </tr>\n",
       "    <tr>\n",
       "      <th>25718</th>\n",
       "      <td>NaN</td>\n",
       "      <td>NaN</td>\n",
       "      <td>NaN</td>\n",
       "      <td>NaN</td>\n",
       "      <td>NaN</td>\n",
       "      <td>NaN</td>\n",
       "      <td>NaN</td>\n",
       "      <td>NaN</td>\n",
       "      <td>NaN</td>\n",
       "      <td>NaN</td>\n",
       "      <td>NaN</td>\n",
       "    </tr>\n",
       "    <tr>\n",
       "      <th>25719</th>\n",
       "      <td>NaN</td>\n",
       "      <td>NaN</td>\n",
       "      <td>NaN</td>\n",
       "      <td>NaN</td>\n",
       "      <td>NaN</td>\n",
       "      <td>NaN</td>\n",
       "      <td>NaN</td>\n",
       "      <td>NaN</td>\n",
       "      <td>NaN</td>\n",
       "      <td>NaN</td>\n",
       "      <td>NaN</td>\n",
       "    </tr>\n",
       "    <tr>\n",
       "      <th>25720</th>\n",
       "      <td>NaN</td>\n",
       "      <td>NaN</td>\n",
       "      <td>NaN</td>\n",
       "      <td>NaN</td>\n",
       "      <td>NaN</td>\n",
       "      <td>NaN</td>\n",
       "      <td>NaN</td>\n",
       "      <td>NaN</td>\n",
       "      <td>NaN</td>\n",
       "      <td>NaN</td>\n",
       "      <td>NaN</td>\n",
       "    </tr>\n",
       "    <tr>\n",
       "      <th>25721</th>\n",
       "      <td>NaN</td>\n",
       "      <td>NaN</td>\n",
       "      <td>NaN</td>\n",
       "      <td>NaN</td>\n",
       "      <td>NaN</td>\n",
       "      <td>NaN</td>\n",
       "      <td>NaN</td>\n",
       "      <td>NaN</td>\n",
       "      <td>NaN</td>\n",
       "      <td>NaN</td>\n",
       "      <td>NaN</td>\n",
       "    </tr>\n",
       "    <tr>\n",
       "      <th>25722</th>\n",
       "      <td>xx</td>\n",
       "      <td>NaN</td>\n",
       "      <td>NaN</td>\n",
       "      <td>NaN</td>\n",
       "      <td>NaN</td>\n",
       "      <td>NaN</td>\n",
       "      <td>NaN</td>\n",
       "      <td>NaN</td>\n",
       "      <td>NaN</td>\n",
       "      <td>NaN</td>\n",
       "      <td>NaN</td>\n",
       "    </tr>\n",
       "  </tbody>\n",
       "</table>\n",
       "<p>25723 rows × 11 columns</p>\n",
       "</div>"
      ],
      "text/plain": [
       "      Case Number         Date    Year    Country             Area  \\\n",
       "0      2018.06.25  25-Jun-2018  2018.0        USA       California   \n",
       "1      2018.06.18  18-Jun-2018  2018.0        USA          Georgia   \n",
       "2      2018.06.09  09-Jun-2018  2018.0        USA           Hawaii   \n",
       "3      2018.06.08  08-Jun-2018  2018.0  AUSTRALIA  New South Wales   \n",
       "4      2018.06.04  04-Jun-2018  2018.0     MEXICO           Colima   \n",
       "...           ...          ...     ...        ...              ...   \n",
       "25718         NaN          NaN     NaN        NaN              NaN   \n",
       "25719         NaN          NaN     NaN        NaN              NaN   \n",
       "25720         NaN          NaN     NaN        NaN              NaN   \n",
       "25721         NaN          NaN     NaN        NaN              NaN   \n",
       "25722          xx          NaN     NaN        NaN              NaN   \n",
       "\n",
       "          Activity Sex   Age  \\\n",
       "0         Paddling    F   57   \n",
       "1         Standing    F   11   \n",
       "2          Surfing    M   48   \n",
       "3          Surfing    M  NaN   \n",
       "4      Free diving    M  NaN   \n",
       "...            ...  ...  ...   \n",
       "25718          NaN  NaN  NaN   \n",
       "25719          NaN  NaN  NaN   \n",
       "25720          NaN  NaN  NaN   \n",
       "25721          NaN  NaN  NaN   \n",
       "25722          NaN  NaN  NaN   \n",
       "\n",
       "                                                  Injury Fatal (Y/N)  \\\n",
       "0      No injury to occupant, outrigger canoe and pad...           N   \n",
       "1                             Minor injury to left thigh           N   \n",
       "2           Injury to left lower leg from surfboard skeg           N   \n",
       "3                              Minor injury to lower leg           N   \n",
       "4      Lacerations to leg & hand shark PROVOKED INCIDENT           N   \n",
       "...                                                  ...         ...   \n",
       "25718                                                NaN         NaN   \n",
       "25719                                                NaN         NaN   \n",
       "25720                                                NaN         NaN   \n",
       "25721                                                NaN         NaN   \n",
       "25722                                                NaN         NaN   \n",
       "\n",
       "              Species   \n",
       "0          White shark  \n",
       "1                  NaN  \n",
       "2                  NaN  \n",
       "3            2 m shark  \n",
       "4      Tiger shark, 3m  \n",
       "...                ...  \n",
       "25718              NaN  \n",
       "25719              NaN  \n",
       "25720              NaN  \n",
       "25721              NaN  \n",
       "25722              NaN  \n",
       "\n",
       "[25723 rows x 11 columns]"
      ]
     },
     "execution_count": 4,
     "metadata": {},
     "output_type": "execute_result"
    }
   ],
   "source": [
    "df = df[[\"Case Number\",\"Date\",\"Year\",\"Country\",\"Area\",\"Activity\",\"Sex \",\"Age\",\"Injury\",\"Fatal (Y/N)\",\"Species \"]]\n",
    "df\n",
    "#ahora tenemos todo mejor visualizado, habiendo quitado las columnas que no nos interesan para nada.\n"
   ]
  },
  {
   "cell_type": "code",
   "execution_count": 5,
   "metadata": {},
   "outputs": [],
   "source": [
    "#Lo siguiente que vamos a hacer es ver si hay algun caso duplicado ya que, si lo hay, nuestro estudio estadistico se podría\n",
    "# ir al traste y no serviría para nada. Solo eliminaremos la fila del Case Number que se repita, y de la que se repita \n",
    "#las ultimas.\n",
    "duplicadas = df.drop_duplicates(\"Case Number\",keep = 'last')\n",
    "\n"
   ]
  },
  {
   "cell_type": "markdown",
   "metadata": {},
   "source": [
    "## ANALISIS NUMERO DE ATAQUES POR PAIS\n"
   ]
  },
  {
   "cell_type": "code",
   "execution_count": 6,
   "metadata": {},
   "outputs": [],
   "source": [
    "#lO QUE VAMOS A HACER A CONTINUACION ES LIMPIAR LOS DATOS DE LA COLUMNA COUNTRY PARA QUITAR LOS VALORES NULOS Y MOSTRAR\n",
    "#EN UNA GRÁFICA EN QUE PAIS SE PRODUCEN MAS ATAQUES DE TIBURON."
   ]
  },
  {
   "cell_type": "code",
   "execution_count": 7,
   "metadata": {},
   "outputs": [
    {
     "data": {
      "text/plain": [
       "0       False\n",
       "1       False\n",
       "2       False\n",
       "3       False\n",
       "4       False\n",
       "        ...  \n",
       "6297    False\n",
       "6298    False\n",
       "6299    False\n",
       "6300    False\n",
       "6301    False\n",
       "Name: Country, Length: 6252, dtype: bool"
      ]
     },
     "execution_count": 7,
     "metadata": {},
     "output_type": "execute_result"
    }
   ],
   "source": [
    "#ELIMINAMOS LAS FILAS CON VALORES NULOS\n",
    "country_limpio = df[\"Country\"].dropna() #Con esto elimino las filas de los valores nulos de la columna country\n",
    "                                     \n",
    "country_limpio.isnull()\n",
    " #comprobamos que, efectivamente se han eliminado todas las filas con valores nulos."
   ]
  },
  {
   "cell_type": "code",
   "execution_count": 8,
   "metadata": {},
   "outputs": [
    {
     "data": {
      "text/plain": [
       "USA             2229\n",
       "AUSTRALIA       1338\n",
       "SOUTH AFRICA     579\n",
       "Name: Country, dtype: int64"
      ]
     },
     "execution_count": 8,
     "metadata": {},
     "output_type": "execute_result"
    }
   ],
   "source": [
    "#Vamos a hacer dos graficas para ver las proporciones de los paises que tiene más ataques de tiburón.\n",
    "#Vamos a ver el top 3 de paises con más ataques de tiburón:\n",
    "country_limpio.value_counts().head(3)\n",
    "\n",
    "\n"
   ]
  },
  {
   "cell_type": "code",
   "execution_count": 9,
   "metadata": {},
   "outputs": [
    {
     "data": {
      "image/png": "[encoded data removed]",
      "text/plain": [
       "<Figure size 1080x288 with 2 Axes>"
      ]
     },
     "metadata": {
      "needs_background": "light"
     },
     "output_type": "display_data"
    }
   ],
   "source": [
    "#Vamos a hacer una grafica circular para que se vean mejor los datos y su proporción respecto a cada país. \n",
    "#Haremos también una grafica de barras para verlo por recuento de ataques.\n",
    "plt.figure(figsize = (15,4))\n",
    "plt.style.use('classic')\n",
    "plt.subplot(1,2,1)\n",
    "country_limpio.value_counts().head(3).plot.pie()\n",
    "plt.title(\"TOP 3 PAISES CON ATAQUES DE TIBURÓN\")\n",
    "plt.subplot(1,2,2)\n",
    "country_limpio.value_counts().head(3).plot.bar()\n",
    "plt.title(\"NUMERO DE ATAQUES DE TIBURÓN POR PAÍS\")\n",
    "plt.ylabel(\"Numero de Ataques de tiburon\")\n",
    "plt.show()\n",
    "\n",
    "\n"
   ]
  },
  {
   "cell_type": "code",
   "execution_count": 10,
   "metadata": {},
   "outputs": [],
   "source": [
    "#Podemos resumir entonces, mediante estas dos gráficas, que Estados Unidos, es el país con más ataques de tiburón\n",
    "#de todo el mundo, seguido de Australia, y el sur de Africa como el tercer país."
   ]
  },
  {
   "cell_type": "markdown",
   "metadata": {},
   "source": [
    "## -----"
   ]
  },
  {
   "cell_type": "code",
   "execution_count": 11,
   "metadata": {},
   "outputs": [],
   "source": [
    "#Otra cosa que vamos a hacer es cambiar el nombre de las columnas que nos gustan, como por ejemplo, el de \"Sex \" para \n",
    "#quitar ese espacioy el de Fatal(Y/N) QUE ES HORRIBLE. Tambien Species que viene con otro espacio al final.\n",
    "df.rename(columns={'Sex ':'Sex',\n",
    "                   \"Fatal (Y/N)\":'Murieron',\n",
    "                  \"Species \" : \"Species\"},\n",
    "          inplace=True)\n",
    "\n",
    "#¿mejor no?"
   ]
  },
  {
   "cell_type": "code",
   "execution_count": 12,
   "metadata": {},
   "outputs": [],
   "source": [
    "#Como ya sabemos sobre que pais trabajar, en este caso Estados Unidos, vamos a reducir el data a todos los registros en los\n",
    "#que aparezca Estados Unidos con todos los datos que vengan de este país y con las columnas que queramos trabajar.\n",
    "#LO PRIMERO QUE VAMOS A HACER ES ELIMINAR TODOS LOS REGISTROS EN EL QUE NO SE ENCUENTRE USA.\n",
    "df.drop(df[df[\"Country\"] != \"USA\"].index,axis=0,inplace=True)"
   ]
  },
  {
   "cell_type": "markdown",
   "metadata": {},
   "source": [
    "\n"
   ]
  },
  {
   "cell_type": "markdown",
   "metadata": {},
   "source": [
    "## SEGUIMOS CON LA LIMPIEZA DE DATOS"
   ]
  },
  {
   "cell_type": "code",
   "execution_count": 13,
   "metadata": {},
   "outputs": [],
   "source": [
    "#A continuación, revisamos los valores nulos que hay en cada columna. Podemos comprobar que tanto hay valores nulos en \n",
    "#unas cuanta columnas. Vamos a eliminar las columnas que no necesitemos que tengan valores nulos. Como por ejemplo,\n",
    "#las especies de tiburones, que la verdad, no es de mucho interés.\n",
    "df.isnull().sum()\n",
    "df.drop(['Species'], axis=1, inplace = True)"
   ]
  },
  {
   "cell_type": "code",
   "execution_count": 14,
   "metadata": {},
   "outputs": [
    {
     "name": "stdout",
     "output_type": "stream",
     "text": [
      "Case Number      1\n",
      "Date             0\n",
      "Year             0\n",
      "Country          0\n",
      "Area             4\n",
      "Activity       134\n",
      "Sex             98\n",
      "Age            727\n",
      "Injury           5\n",
      "Murieron       188\n",
      "dtype: int64\n"
     ]
    }
   ],
   "source": [
    "print(df.isnull().sum())\n",
    "#Volvemos a mirar valores y vemos que en la columna de área solo hay 4, asique no haría falta eliminarlos, sino que\n",
    "#que miraremos cual es el dato más repetido y lo colocaremos en el valor de los nulos.\n",
    "df[\"Area\"].describe()\n",
    "#EN ESTE CASO Florida es dato que más se repite, por lo que sustituiremos los nulos por Florida.\n",
    "df[\"Area\"].fillna(\"Florida\",inplace = True)"
   ]
  },
  {
   "cell_type": "code",
   "execution_count": 15,
   "metadata": {},
   "outputs": [],
   "source": [
    "# A continuacion debemos mirar los tipos de datos que tenemos en cada columna. Y observamos que las columnas\n",
    "#que deberian ser numéricas, son de tipo objeto como por ejemplo, Age.\n",
    "df.dtypes\n",
    "#Asique vamos a cambiar la columna de Age por un tipo de dato entero. Primero, para que no nos de error, debemos cambiar\n",
    "#todos los nulos por 0\n",
    "recuento = df[\"Age\"].value_counts()\n",
    "\n",
    "df[\"Age\"].fillna(0,inplace = True)\n"
   ]
  },
  {
   "cell_type": "code",
   "execution_count": 16,
   "metadata": {},
   "outputs": [],
   "source": [
    "df[\"Age\"] = pd.to_numeric(df[\"Age\"],errors = \"coerce\") #Con esto, convertimos a tipo entero toda la columna y que ademas, \n",
    "#nos evite los errores de tipo string que haya."
   ]
  },
  {
   "cell_type": "code",
   "execution_count": 17,
   "metadata": {},
   "outputs": [],
   "source": [
    "#Como no nos conviene que este tipo float, sino que sea tipo entero, ya que la edad solo puede ser de tipo entero,\n",
    "#cambiamos el tipo de dato de la columna float a int.\n",
    "#Antes nos cercionamos si sigue habiendo nulos.\n",
    "df.Age.isnull().sum() #Podemos ver que sigue habiendo 36. Vamos a seguir eliminando.\n",
    "df[\"Age\"] = df[\"Age\"].fillna(0)\n",
    "df[\"Age\"] = df[\"Age\"].astype(int)"
   ]
  },
  {
   "cell_type": "code",
   "execution_count": 18,
   "metadata": {},
   "outputs": [
    {
     "name": "stdout",
     "output_type": "stream",
     "text": [
      "int32\n",
      "0       False\n",
      "1       False\n",
      "2       False\n",
      "7       False\n",
      "8       False\n",
      "        ...  \n",
      "6249    False\n",
      "6283    False\n",
      "6288    False\n",
      "6292    False\n",
      "6299    False\n",
      "Name: Age, Length: 2229, dtype: bool\n"
     ]
    }
   ],
   "source": [
    "#Comprobamos que ahora la columna Age sin valores nulos es de tipo entero. Vamos a dejarlo asi de momento.\n",
    "print(df[\"Age\"].dtype)\n",
    "print(df[\"Age\"].isnull())"
   ]
  },
  {
   "cell_type": "markdown",
   "metadata": {},
   "source": [
    "## ANALISIS ATAQUES DE TIBURON A SURFEROS EN ESTADOS UNIDOS"
   ]
  },
  {
   "cell_type": "code",
   "execution_count": 19,
   "metadata": {},
   "outputs": [
    {
     "data": {
      "text/plain": [
       "Case Number      1\n",
       "Date             0\n",
       "Year             0\n",
       "Country          0\n",
       "Area             0\n",
       "Activity       134\n",
       "Sex             98\n",
       "Age              0\n",
       "Injury           5\n",
       "Murieron       188\n",
       "dtype: int64"
      ]
     },
     "execution_count": 19,
     "metadata": {},
     "output_type": "execute_result"
    }
   ],
   "source": [
    "df.isnull().sum()\n",
    "#Vemos que hay valores nulos en actividades, pero solo nos queremos quedar con los que hacen surf, asique reducimos el \n",
    "#espectro.\n"
   ]
  },
  {
   "cell_type": "code",
   "execution_count": 20,
   "metadata": {},
   "outputs": [],
   "source": [
    "df = df[(df['Activity'] == 'Surfing')]#Ahora tenemos 0 valores nulos en activity.\n"
   ]
  },
  {
   "cell_type": "code",
   "execution_count": 21,
   "metadata": {},
   "outputs": [],
   "source": [
    "#En la columna Sex directamente podemos hacer una media y sustituir los valores nulos por la media."
   ]
  },
  {
   "cell_type": "code",
   "execution_count": 22,
   "metadata": {},
   "outputs": [
    {
     "name": "stderr",
     "output_type": "stream",
     "text": [
      "C:\\Users\\Adrian\\anaconda3\\lib\\site-packages\\pandas\\core\\generic.py:6245: SettingWithCopyWarning: \n",
      "A value is trying to be set on a copy of a slice from a DataFrame\n",
      "\n",
      "See the caveats in the documentation: https://pandas.pydata.org/pandas-docs/stable/user_guide/indexing.html#returning-a-view-versus-a-copy\n",
      "  self._update_inplace(new_data)\n"
     ]
    }
   ],
   "source": [
    "df[\"Sex\"].isnull().sum() # con esto vemos que solo hay 19 valores nulos asique no supondrá una gran diferencia\n",
    "#sustituirlos por el valor mas repetido, que en este caso es M.\n",
    "df[\"Sex\"].describe() #Comprobamos que M esta en el top.\n",
    "df[\"Sex\"].fillna(\"M\",inplace = True)"
   ]
  },
  {
   "cell_type": "code",
   "execution_count": 23,
   "metadata": {},
   "outputs": [
    {
     "data": {
      "text/plain": [
       "0"
      ]
     },
     "execution_count": 23,
     "metadata": {},
     "output_type": "execute_result"
    }
   ],
   "source": [
    "df[\"Sex\"].isnull().sum()#Vemos que ya no hay valores nulos."
   ]
  },
  {
   "cell_type": "code",
   "execution_count": 24,
   "metadata": {},
   "outputs": [
    {
     "data": {
      "text/plain": [
       "Case Number     0\n",
       "Date            0\n",
       "Year            0\n",
       "Country         0\n",
       "Area            0\n",
       "Activity        0\n",
       "Sex             0\n",
       "Age             0\n",
       "Injury          4\n",
       "Murieron       26\n",
       "dtype: int64"
      ]
     },
     "execution_count": 24,
     "metadata": {},
     "output_type": "execute_result"
    }
   ],
   "source": [
    "df.isnull().sum()"
   ]
  },
  {
   "cell_type": "code",
   "execution_count": 25,
   "metadata": {},
   "outputs": [],
   "source": [
    "df[\"Injury\"].fillna(\"Foot bitten\",inplace = True)#Hacemos lo mismo con la columna de injury y murieron.\n",
    "df[\"Murieron\"].fillna(\"N\",inplace = True) #COMPROBAMOS OTRA VEZ QUE VALOR SE REPITE MÁS UTILIZANDO EL DESCRIBE."
   ]
  },
  {
   "cell_type": "code",
   "execution_count": 26,
   "metadata": {},
   "outputs": [
    {
     "name": "stdout",
     "output_type": "stream",
     "text": [
      "Case Number    0\n",
      "Date           0\n",
      "Year           0\n",
      "Country        0\n",
      "Area           0\n",
      "Activity       0\n",
      "Sex            0\n",
      "Age            0\n",
      "Injury         0\n",
      "Murieron       0\n",
      "dtype: int64\n"
     ]
    }
   ],
   "source": [
    "print(df.isnull().sum()) #Ahora tenemos todo el DataFrame sin valores nulos."
   ]
  },
  {
   "cell_type": "code",
   "execution_count": 27,
   "metadata": {},
   "outputs": [
    {
     "name": "stderr",
     "output_type": "stream",
     "text": [
      "<ipython-input-27-bf74e4a51b51>:2: SettingWithCopyWarning: \n",
      "A value is trying to be set on a copy of a slice from a DataFrame.\n",
      "Try using .loc[row_indexer,col_indexer] = value instead\n",
      "\n",
      "See the caveats in the documentation: https://pandas.pydata.org/pandas-docs/stable/user_guide/indexing.html#returning-a-view-versus-a-copy\n",
      "  df[\"Year\"] = df[\"Year\"].astype(int)\n"
     ]
    }
   ],
   "source": [
    "#OTRA COSA QUE VAMOS A HACER ES CONVERTIR LA COLUMNA DE Year A TIPO ENTERO.\n",
    "df[\"Year\"] = df[\"Year\"].astype(int)\n"
   ]
  },
  {
   "cell_type": "code",
   "execution_count": 28,
   "metadata": {},
   "outputs": [
    {
     "name": "stderr",
     "output_type": "stream",
     "text": [
      "C:\\Users\\Adrian\\anaconda3\\lib\\site-packages\\pandas\\core\\frame.py:3990: SettingWithCopyWarning: \n",
      "A value is trying to be set on a copy of a slice from a DataFrame\n",
      "\n",
      "See the caveats in the documentation: https://pandas.pydata.org/pandas-docs/stable/user_guide/indexing.html#returning-a-view-versus-a-copy\n",
      "  return super().drop(\n"
     ]
    }
   ],
   "source": [
    "#A estas alturas vamos a eliminar directamente dos columnas que tampoco nos interesan ya. Que ademas esta\n",
    "#lleno de errores y no va a afectar a nuestro analisis posterior que veremos a continuacion.\n",
    "df.drop(['Date',\"Case Number\"], axis=1, inplace = True)"
   ]
  },
  {
   "cell_type": "code",
   "execution_count": 29,
   "metadata": {},
   "outputs": [],
   "source": [
    "baja_varianza = [] #Comprobamos si los valores de las columnas no se repiten tanto como para descartarlas directamente.\n",
    "                   #Se comprueba que el valor minimo no es igual al percentil, porque es el limite que ponemos para que \n",
    "                    #la columna se quede.\n",
    "for col in df._get_numeric_data():\n",
    "    minimo = min(df[col])\n",
    "    percentil = np.percentile(df[col], 70)\n",
    "    if percentil == minimo:\n",
    "        baja_varianza.append(col)"
   ]
  },
  {
   "cell_type": "code",
   "execution_count": 30,
   "metadata": {},
   "outputs": [
    {
     "data": {
      "text/plain": [
       "[]"
      ]
     },
     "execution_count": 30,
     "metadata": {},
     "output_type": "execute_result"
    }
   ],
   "source": [
    "baja_varianza #seguimos."
   ]
  },
  {
   "cell_type": "code",
   "execution_count": 31,
   "metadata": {},
   "outputs": [
    {
     "name": "stdout",
     "output_type": "stream",
     "text": [
      "<class 'pandas.core.frame.DataFrame'>\n",
      "Int64Index: 564 entries, 2 to 6201\n",
      "Data columns (total 8 columns):\n",
      " #   Column    Non-Null Count  Dtype \n",
      "---  ------    --------------  ----- \n",
      " 0   Year      564 non-null    int32 \n",
      " 1   Country   564 non-null    object\n",
      " 2   Area      564 non-null    object\n",
      " 3   Activity  564 non-null    object\n",
      " 4   Sex       564 non-null    object\n",
      " 5   Age       564 non-null    int32 \n",
      " 6   Injury    564 non-null    object\n",
      " 7   Murieron  564 non-null    object\n",
      "dtypes: int32(2), object(6)\n",
      "memory usage: 35.2+ KB\n"
     ]
    }
   ],
   "source": [
    "df.info()"
   ]
  },
  {
   "cell_type": "code",
   "execution_count": 32,
   "metadata": {},
   "outputs": [
    {
     "name": "stdout",
     "output_type": "stream",
     "text": [
      "{'F', 'lli', 'M'}\n"
     ]
    },
    {
     "name": "stderr",
     "output_type": "stream",
     "text": [
      "<ipython-input-32-1e1ad8b57510>:4: SettingWithCopyWarning: \n",
      "A value is trying to be set on a copy of a slice from a DataFrame.\n",
      "Try using .loc[row_indexer,col_indexer] = value instead\n",
      "\n",
      "See the caveats in the documentation: https://pandas.pydata.org/pandas-docs/stable/user_guide/indexing.html#returning-a-view-versus-a-copy\n",
      "  df['Sex'] = df['Sex'].str.replace('lli','M')\n"
     ]
    }
   ],
   "source": [
    "print(set(df['Sex'])) #HEMOS OBSERVADO TODOS LOS SETS DE CADA COLUMNA Y NOS DIMOS CUENTA QUE EN LA COLUMNA DE SEX HAY \n",
    "# ALGO QUE NO VA. EL \"lli\". Reemplazamos por M que es el caracter que más se repite por el tema de la media. Ademas que \n",
    "#solo hay un \"lli\" asique no nos a a afectar apenas en nuesto analisis.\n",
    "df['Sex'] = df['Sex'].str.replace('lli','M')\n",
    "\n"
   ]
  },
  {
   "cell_type": "code",
   "execution_count": 33,
   "metadata": {},
   "outputs": [
    {
     "name": "stdout",
     "output_type": "stream",
     "text": [
      "{'F', 'M'}\n"
     ]
    }
   ],
   "source": [
    "print(set(df[\"Sex\"]))#Ya no hay valores extraños."
   ]
  },
  {
   "cell_type": "code",
   "execution_count": 34,
   "metadata": {},
   "outputs": [
    {
     "data": {
      "text/plain": [
       "count    564\n",
       "mean      21\n",
       "std       14\n",
       "min        0\n",
       "25%       15\n",
       "50%       20\n",
       "75%       28\n",
       "max       68\n",
       "Name: Age, dtype: int32"
      ]
     },
     "execution_count": 34,
     "metadata": {},
     "output_type": "execute_result"
    }
   ],
   "source": [
    "descripcion = df[\"Age\"].describe().astype(int)#Podemos ya ver ciertos datos interesantes como que la media de edad \n",
    "#en ataques de tiburon es de 21 años, o que la edad maxima en sufrir alguien un ataque es de 68 años.\n",
    "descripcion\n"
   ]
  },
  {
   "cell_type": "code",
   "execution_count": 35,
   "metadata": {},
   "outputs": [],
   "source": [
    "df = df.sort_values(\"Age\") #vamos a ordenar en orden ascendente la columna de Edad para ver los ceros que podemos eliminar.\n",
    "\n"
   ]
  },
  {
   "cell_type": "code",
   "execution_count": 36,
   "metadata": {},
   "outputs": [],
   "source": [
    "zero = df[(df['Year'] == 0)] #Vimos que la columna de year y en la de Age coincide un cero, concretamente en la fila 6021.\n",
    "                             #Asique la vamos a eliminar.                                 \n",
    "zero = zero[[\"Year\",\"Age\"]]\n",
    "zero\n",
    "df.drop([6201],axis=0,inplace = True)"
   ]
  },
  {
   "cell_type": "markdown",
   "metadata": {},
   "source": [
    "## TOP SURFISTAS MUERTOS POR AREA"
   ]
  },
  {
   "cell_type": "code",
   "execution_count": 37,
   "metadata": {},
   "outputs": [
    {
     "data": {
      "image/png": "[encoded data removed]",
      "text/plain": [
       "<Figure size 640x320 with 1 Axes>"
      ]
     },
     "metadata": {},
     "output_type": "display_data"
    }
   ],
   "source": [
    "#Vamos a trabajar ahora con los datos que nos han dado.\n",
    "#podemos ver cual es el top dentro de Area para ver donde se producen más ataques de tiburon.\n",
    "top_area = df[\"Area\"].value_counts().head(3)\n",
    "plt.figure(figsize = (8,4))\n",
    "plt.style.use('classic')\n",
    "top_area.plot()\n",
    "\n",
    "plt.show() #Podemos ver que de lejos donde se producen más ataques de tiburon es en Florida con mas de 350\n",
    "#casos, seguido de california con menos de 100, y Hawaii con poco mas de 50."
   ]
  },
  {
   "cell_type": "markdown",
   "metadata": {},
   "source": [
    "## SURFISTAS MUERTOS EN ESTADOS UNIDOS."
   ]
  },
  {
   "cell_type": "code",
   "execution_count": 38,
   "metadata": {},
   "outputs": [
    {
     "name": "stdout",
     "output_type": "stream",
     "text": [
      "N          552\n",
      "Y            8\n",
      "UNKNOWN      3\n",
      "Name: Murieron, dtype: int64\n"
     ]
    },
    {
     "data": {
      "image/png": "[encoded data removed]",
      "text/plain": [
       "<Figure size 640x320 with 1 Axes>"
      ]
     },
     "metadata": {},
     "output_type": "display_data"
    }
   ],
   "source": [
    "grafica_mueren = df[\"Murieron\"].value_counts()\n",
    "print(grafica_mueren)\n",
    "plt.figure(figsize = (8,4))\n",
    "plt.style.use('classic')\n",
    "grafica_mueren.plot()\n",
    "plt.show()\n",
    "#comprobamos que el numero de surfistas muertos en Estados Unidos es muy bajo, 8 en total, despues, son 3 que no se sabe\n",
    "#lo que les paso, y 552 que sobrevivieron."
   ]
  },
  {
   "cell_type": "code",
   "execution_count": 39,
   "metadata": {},
   "outputs": [
    {
     "name": "stdout",
     "output_type": "stream",
     "text": [
      "                      Age     \n",
      "                    count mean\n",
      "Area       Murieron           \n",
      "California N           73   21\n",
      "           Y            2   31\n",
      "Florida    N          363   20\n",
      "           UNKNOWN      3    5\n",
      "Georgia    N            1   12\n",
      "Hawaii     N           52   25\n",
      "           Y            5   11\n"
     ]
    }
   ],
   "source": [
    "muertes = df.groupby([\"Area\",\"Murieron\"]).agg(['count', 'mean']).astype(int).head(7)\n",
    "del muertes[\"Year\"]\n",
    "#Esta tabla es bastante interesante, nos da información sobre loss surfer@s que  murieron por ataques de tiburon en áreas\n",
    "#diferentes. Podemos comprobar, que a pesar de que Florida, es la zona con mas ataques de tiburon, ninguno de ellos resulto\n",
    "#fatal. Si podemos sacar también que la media de edad se sitúa en los 21 años, por lo que se produce entre la población \n",
    "#joven que hace surf estos ataques.\n",
    "\n",
    "#Por otro lado vemos que en California, se sitúa en segundo lugar en cuanto a ataques, y que se produjeron dos muertes\n",
    "#por ataque de tiburon. \n",
    "\n",
    "#Y sorprendentemente Hawai parece que es la zona con más ataques mortales de tiburon,5!!!! que a pesar de ser el tercero\n",
    "#del top de ataques, es el que más muertes tiene, y más sorprendente aún, es que la media de edad se sitúa en los 11 años!\n",
    "#¡Parece que no se vigila tanto a los niños por esa zona! nose...\n",
    "print(muertes)\n"
   ]
  },
  {
   "cell_type": "markdown",
   "metadata": {},
   "source": [
    "## RELACION DE GENERO RESPECTO A LAS MUERTES"
   ]
  },
  {
   "cell_type": "code",
   "execution_count": 40,
   "metadata": {},
   "outputs": [
    {
     "data": {
      "image/png": "[encoded data removed]",
      "text/plain": [
       "<Figure size 640x480 with 1 Axes>"
      ]
     },
     "metadata": {},
     "output_type": "display_data"
    }
   ],
   "source": [
    "#Podemos ver la relacion de genero respecto a las muertes por ataques de tiburon no?\n",
    "sns.countplot(x='Sex', hue='Murieron', data=df) #Podemos ver algo interesante en esta gráfica.\n",
    "#Para empezar, se producen más ataques a surferos hombres que a mujeres, eso puede indicar que hay más surferos que \n",
    "#surferas en Estados Unidos, y las unicas muertes que hubo fueron en hombres, lógicamente al haber muchisimos más.\n",
    "plt.show()"
   ]
  },
  {
   "cell_type": "code",
   "execution_count": 41,
   "metadata": {},
   "outputs": [
    {
     "data": {
      "text/plain": [
       "M    523\n",
       "F     40\n",
       "Name: Sex, dtype: int64"
      ]
     },
     "execution_count": 41,
     "metadata": {},
     "output_type": "execute_result"
    }
   ],
   "source": [
    "#¿cuanto más?\n",
    "df[\"Sex\"].value_counts() #------> 523 ataques a hombres y solo 40 a mujeres. 483 de diferencia."
   ]
  },
  {
   "cell_type": "markdown",
   "metadata": {},
   "source": [
    "## TOP 3 ATAQUES POR AREA A SURFISTAS EN EE.UU"
   ]
  },
  {
   "cell_type": "code",
   "execution_count": 42,
   "metadata": {},
   "outputs": [
    {
     "data": {
      "image/png": "[encoded data removed]",
      "text/plain": [
       "<Figure size 960x320 with 2 Axes>"
      ]
     },
     "metadata": {},
     "output_type": "display_data"
    }
   ],
   "source": [
    "plt.figure(figsize = (12,4))\n",
    "plt.style.use('classic')\n",
    "plt.subplot(1,2,1)\n",
    "df[\"Area\"].value_counts().head(3).plot.pie()\n",
    "plt.title(\"TOP 3 Zonas con más ataques de tiburón\")\n",
    "plt.subplot(1,2,2)\n",
    "df[\"Sex\"].value_counts().head(3).plot.bar(color = \"black\")\n",
    "plt.title(\"Por genero\")\n",
    "plt.show()\n",
    "\n",
    "#lO QUE ESTAMOS VIENDO EN LA PRIMERA GRAFICA CIRCULAR ES LA PROPORCION POR COLORES ENTRE LOS ATAQUES A SURFISTAS\n",
    "#DONDE SE VE QUE LA ZONA DOMINANTE ES FLORIDA, DESPUES CALIFORNIA, SEGUIDO MUY DE CERCA POR HAWAII.\n",
    "\n",
    "#EN LA OTRA GRAFICA VEMOS QUE LA PROPORCION DE ATAQUES A SURFEROS HOMBRES ES MUCHO MAYOR QUE EN MUJERES SURFISTAS.\n",
    "#¿SERAN LOS HOMBRES MÁS TORPES? ¿MENOS CUIDADOSOS? O ES QUE HABRA MENOS CHICAS SURFISTAS...\n"
   ]
  },
  {
   "cell_type": "markdown",
   "metadata": {},
   "source": [
    "## COMPARATIVA AREAS POR GENERO"
   ]
  },
  {
   "cell_type": "code",
   "execution_count": 43,
   "metadata": {},
   "outputs": [],
   "source": [
    "#Ahora vamos a comparar por Areas y el genero, haber si dependiendo de la zona hay mas surfieros o surferas. Vamos a filtrar\n",
    "#solo las areas del top de ataques, California, Florida y Hawaii.\n",
    "values=[\"Florida\",\"California\",\"Hawaii\"]\n",
    "top_area = df[df.Area.isin(values)]#Con esto lo que hacemos es quedarnos solo con las filas del top que nos interesa\n",
    "#que es el de California, Florida y Hawaii.\n"
   ]
  },
  {
   "cell_type": "code",
   "execution_count": 44,
   "metadata": {},
   "outputs": [
    {
     "data": {
      "image/png": "[encoded data removed]",
      "text/plain": [
       "<Figure size 800x320 with 1 Axes>"
      ]
     },
     "metadata": {},
     "output_type": "display_data"
    }
   ],
   "source": [
    "plt.figure(figsize = (10,4))\n",
    "plt.style.use('classic')\n",
    "plt.title(\"COMPARATIVA GENERO POR AREA\")\n",
    "sns.countplot(x='Sex', hue='Area', data=top_area, palette= \"Set1\")\n",
    "plt.show()\n",
    "#Podemos observar que hay muchos más ataques a surferos que a surferas en todos los territorios, y eso nos hace pensar\n",
    "#cositas como las mencionadas anteriormente."
   ]
  },
  {
   "cell_type": "markdown",
   "metadata": {},
   "source": [
    "## ULTIMO ANALISIS - MUERTES EN LOS ULTIMOS 8 AÑOS"
   ]
  },
  {
   "cell_type": "code",
   "execution_count": 45,
   "metadata": {},
   "outputs": [
    {
     "data": {
      "image/png": "[encoded data removed]",
      "text/plain": [
       "<Figure size 800x320 with 1 Axes>"
      ]
     },
     "metadata": {},
     "output_type": "display_data"
    }
   ],
   "source": [
    "#Ahora vamos a comparar el numero de muertes en los ultimos años\n",
    "muertes_año = df[df[\"Year\"] > 2010]\n",
    "plt.figure(figsize = (10,4))\n",
    "plt.style.use('ggplot')\n",
    "sns.countplot(x='Year', hue='Murieron', data=muertes_año, palette= \"Set1\")\n",
    "plt.show()\n",
    "#En esta grafica podemos observar que en los ultimos 8 años, teniendo en cuenta que nos encontramos en 2018, y no en \n",
    "#2020, el año en el que se produjeron más ataques a surferos fue en 2012, y que en 2018 se redujo drasticamente el numero de ataques.\n",
    "#Casi todo fueron ataques, solo hubo un caso de muerte en 2012. Parece ser que en ese año se pusieron más las pilas \n",
    "#los que surfeaban.\n"
   ]
  },
  {
   "cell_type": "code",
   "execution_count": 47,
   "metadata": {},
   "outputs": [
    {
     "name": "stdout",
     "output_type": "stream",
     "text": [
      "Year    2014\n",
      "Age       27\n",
      "dtype: int32\n"
     ]
    }
   ],
   "source": [
    "#PODEMOS TERMINAR CON VER LA MEDIA DE EDAD EN LOS ULTIMOS 8 AÑOS\n",
    "#PARA ELLO VAMOS A ELIMINAR LOS CEROS DEL COPÓN, AUNQUE NO SEA UNA MANERA MUY ORTODOXA DE TRABAJAR PERO NO SE ALEJARÁ MUCHO \n",
    "#DE LA REALIDAD TAMPOCO.\n",
    "edades_ceros = df[(df[\"Year\"] > 2010) & (df[\"Age\"]>0)]\n",
    "print(edades_ceros.mean().astype(int)) #Vemos por último que la media de edad en ataques a surfistas en los últimos\n",
    "#8 años es de 27 años."
   ]
  },
  {
   "cell_type": "markdown",
   "metadata": {},
   "source": [
    "# RESUMEN ANALISIS"
   ]
  },
  {
   "cell_type": "markdown",
   "metadata": {},
   "source": [
    "#### BUENO, PODEMOS DEDUCIR DE TODO ESTO ENTONCES, QUE EN ESTADOS UNIDOS HAY UN MAYOR NUMERO DE ATAQUES A SURFEROS QUE A SURFERAS, YA SEA EN FLORIDA CON EL MAYOR NUMERO DE CASOS, EN CALIFORNIA, NUESTRO SEGUNDO EN EL TOP, O HAWAII, EL TERCERO.  LA MAYORÍA DE ESOS ATAQUES ACABAN SIN VICTIMAS MORTALES EXCEPTUANDO ALGUN CASO, Y QUE EN LOS ULTIMOS 8 AÑOS SE HA MANTENIDO UNA MEDIA DE ATAQUES CONSTANTE HASTA EL ULTIMO EN 2018, QUE SE HA REDUCIDO DE UNA MANERA DESPROPORCIONADA."
   ]
  },
  {
   "cell_type": "markdown",
   "metadata": {},
   "source": [
    "## FIN"
   ]
  },
  {
   "cell_type": "code",
   "execution_count": null,
   "metadata": {},
   "outputs": [],
   "source": []
  },
  {
   "cell_type": "code",
   "execution_count": null,
   "metadata": {},
   "outputs": [],
   "source": []
  },
  {
   "cell_type": "code",
   "execution_count": null,
   "metadata": {},
   "outputs": [],
   "source": []
  }
 ],
 "metadata": {
  "kernelspec": {
   "display_name": "Python 3",
   "language": "python",
   "name": "python3"
  },
  "language_info": {
   "codemirror_mode": {
    "name": "ipython",
    "version": 3
   },
   "file_extension": ".py",
   "mimetype": "text/x-python",
   "name": "python",
   "nbconvert_exporter": "python",
   "pygments_lexer": "ipython3",
   "version": "3.8.3"
  }
 },
 "nbformat": 4,
 "nbformat_minor": 4
}
